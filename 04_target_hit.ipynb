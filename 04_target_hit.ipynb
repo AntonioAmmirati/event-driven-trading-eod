{
 "cells": [
  {
   "cell_type": "markdown",
   "id": "d8358901-cbaa-41a6-bf30-990691ec236f",
   "metadata": {},
   "source": [
    "#### 04. TARGET HIT"
   ]
  },
  {
   "cell_type": "markdown",
   "id": "21a1cd71-f2b8-47e1-91f0-6134a8d13bf0",
   "metadata": {},
   "source": [
    "### Target Feature: First-Hit Classification\n",
    "\n",
    "To evaluate how markets respond to biotech-related news, we define a **discrete classification target** based on short-term price reactions. Specifically, we use a **first-hit logic**, which simulates how quickly a stock reacts to a news item within a defined window.\n",
    "\n",
    "#### First-Hit Logic\n",
    "\n",
    "For each news article, we monitor the **adjusted closing prices** of the associated ticker starting from the **news date (T₀)** up to **5 subsequent trading days (T₀+5)**.\n",
    "\n",
    "We define a directional target `target_hit` as follows:\n",
    "\n",
    "- **`+1` (Positive Reaction)** → If the price first increases by at least **+7%** within the window  \n",
    "- **`–1` (Negative Reaction)** → If the price first decreases by **–7%** or more within the window  \n",
    "- **`0` (No Reaction)** → If neither threshold is reached in the 5-day window\n",
    "\n",
    "> The classification is **mutually exclusive**: only the first threshold hit (up or down) determines the label.\n",
    "\n",
    "This simulates a **realistic market reaction**, where sharp movements often occur shortly after impactful news. It allows us to model the **directional surprise or shift in expectations** triggered by the news.\n",
    "\n",
    "---\n",
    "\n",
    "### Labeling Procedure\n",
    "\n",
    "- Historical prices are sourced from adjusted close data (`adj`).\n",
    "- The return is computed as cumulative percentage change from T₀.\n",
    "- Only the **first threshold exceeded** is considered, to capture the *initial directional breakout*.\n",
    "- If neither +7% nor –7% is triggered, the sample is labeled as **0** (neutral or noise).\n",
    "\n",
    "---\n",
    "\n",
    "This target is especially relevant in biotech markets, where news can rapidly reprice expectations due to:\n",
    "- Regulatory announcements (e.g., FDA approval/rejection)\n",
    "- Clinical trial results\n",
    "- M&A or partnership news\n",
    "\n",
    "By focusing on **first-hit behavior**, the model captures not just *whether* the news matters, but *how fast* and *in which direction* the market reacts."
   ]
  },
  {
   "cell_type": "code",
   "execution_count": 1,
   "id": "0d8753b1-0b1c-40bb-a335-d97d1bcc555a",
   "metadata": {},
   "outputs": [],
   "source": [
    "from pathlib import Path\n",
    "import os\n",
    "ROOT = Path(__file__).resolve().parents[0] if \"__file__\" in globals() else Path.cwd()\n",
    "DATA_DIR = Path(os.getenv(\"DATA_DIR\", ROOT / \"data\"))  \n",
    "def p(file): return DATA_DIR / file"
   ]
  },
  {
   "cell_type": "code",
   "execution_count": 7,
   "id": "e76d4277-a0ed-4c26-9f50-2cfafbccb761",
   "metadata": {},
   "outputs": [
    {
     "name": "stdout",
     "output_type": "stream",
     "text": [
      "target_hit\n",
      " 0    0.447291\n",
      "-1    0.286808\n",
      " 1    0.265901\n",
      "Name: proportion, dtype: float64\n"
     ]
    }
   ],
   "source": [
    "#FIRST HIT\n",
    "import pandas as pd\n",
    "df_close = pd.read_csv(p(\"all_biotech_adj_close.csv\"),\n",
    "                       parse_dates=[\"Date\"], index_col=\"Date\")\n",
    "df_prices = (\n",
    "    df_close\n",
    "      .rename(columns=lambda s: s.replace(\"_adj\",\"\"))\n",
    "      .stack()\n",
    "      .rename(\"adj\")\n",
    "      .reset_index()\n",
    "      .rename(columns={\"level_1\":\"ticker\", \"Date\":\"date\"})\n",
    ")\n",
    "df_prices = df_prices.sort_values([\"ticker\",\"date\"])\n",
    "\n",
    "\n",
    "\n",
    "news = pd.read_parquet(p('cisiamo2.parquet'))\n",
    "news[\"news_date\"] = news[\"date\"].dt.normalize()\n",
    "\n",
    "def compute_first_hit(prices: pd.Series, pct: float, window: int):\n",
    "   \n",
    "    base = prices.iloc[0]\n",
    "\n",
    "    rets = prices.pct_change().fillna(0).add(1).cumprod().sub(1)\n",
    "    \n",
    "    rets = rets.iloc[1:window+1] \n",
    "   \n",
    "    up_idx = rets[rets >= pct].index.min() if (rets >= pct).any() else None\n",
    "    dn_idx = rets[rets <= -pct].index.min() if (rets <= -pct).any() else None\n",
    "    if up_idx and dn_idx:\n",
    "        return 1 if up_idx < dn_idx else -1\n",
    "    elif up_idx:\n",
    "        return 1\n",
    "    elif dn_idx:\n",
    "        return -1\n",
    "    else:\n",
    "        return 0\n",
    "\n",
    "\n",
    "pct = 0.07\n",
    "window = 5\n",
    "\n",
    "results = []\n",
    "for _, row in news.iterrows():\n",
    "    tkr = row.ticker\n",
    "    d0  = row.news_date\n",
    "\n",
    "    mask = (df_prices.ticker == tkr) & \\\n",
    "           (df_prices.date >= d0) & \\\n",
    "           (df_prices.date <= d0 + pd.Timedelta(days=window*2))\n",
    "   \n",
    "    seq = df_prices.loc[mask, [\"date\",\"adj\"]] \\\n",
    "                    .drop_duplicates(\"date\") \\\n",
    "                    .set_index(\"date\") \\\n",
    "                    .sort_index() \\\n",
    "                    .head(window+1)[\"adj\"]\n",
    "    if len(seq) < 2:\n",
    "        target = 0\n",
    "    else:\n",
    "        target = compute_first_hit(seq, pct, window)\n",
    "    results.append(target)\n",
    "\n",
    "news[\"target_hit\"] = results\n",
    "\n",
    "\n",
    "print(news[\"target_hit\"].value_counts(normalize=True))\n",
    "\n",
    "\n",
    "news.to_parquet(\"final_hit__.parquet\", index=False)"
   ]
  },
  {
   "cell_type": "markdown",
   "id": "c575eaad-1395-4543-8d14-337e8fa91a4f",
   "metadata": {},
   "source": [
    "### First-Hit label distribution\n",
    "\n",
    "- **0 (No reaction)**: **44.7%**\n",
    "- **−1 (Negative first hit)**: **28.7%**\n",
    "- **+1 (Positive first hit)**: **26.6%**\n",
    "\n",
    "**Interpretation.** Class *0* is the largest bucket (many events don’t cross ±7% within 5 trading days), while the directional classes are roughly balanced (−1 ≈ +1).\n",
    "\n",
    "**For the ML model:** we will train a **binary classifier** using **only −1 and +1**, excluding class *0* to reduce noise and improve separability. Class *0* remains useful for **gating/abstention** in backtests and analysis."
   ]
  }
 ],
 "metadata": {
  "kernelspec": {
   "display_name": "Python 3 (ipykernel)",
   "language": "python",
   "name": "python3"
  },
  "language_info": {
   "codemirror_mode": {
    "name": "ipython",
    "version": 3
   },
   "file_extension": ".py",
   "mimetype": "text/x-python",
   "name": "python",
   "nbconvert_exporter": "python",
   "pygments_lexer": "ipython3",
   "version": "3.13.2"
  }
 },
 "nbformat": 4,
 "nbformat_minor": 5
}
